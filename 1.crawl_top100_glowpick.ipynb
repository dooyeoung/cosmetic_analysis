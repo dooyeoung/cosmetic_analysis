{
 "cells": [
  {
   "cell_type": "code",
   "execution_count": 1,
   "metadata": {},
   "outputs": [],
   "source": [
    "from selenium import webdriver\n",
    "from selenium.webdriver.common.keys import Keys\n",
    "from time import sleep\n",
    "from tqdm import tqdm_notebook\n",
    "from time import time"
   ]
  },
  {
   "cell_type": "code",
   "execution_count": 238,
   "metadata": {},
   "outputs": [],
   "source": [
    "driver = webdriver.Chrome()"
   ]
  },
  {
   "cell_type": "code",
   "execution_count": 292,
   "metadata": {},
   "outputs": [
    {
     "data": {
      "application/vnd.jupyter.widget-view+json": {
       "model_id": "a452c14a86ab4da080ab72fdf4754a1b",
       "version_major": 2,
       "version_minor": 0
      },
      "text/plain": [
       "HBox(children=(IntProgress(value=0, max=499), HTML(value='')))"
      ]
     },
     "metadata": {},
     "output_type": "display_data"
    },
    {
     "name": "stdout",
     "output_type": "stream",
     "text": [
      "\n"
     ]
    }
   ],
   "source": [
    "res = []\n",
    "errors = []\n",
    "for p in tqdm_notebook(range(1, 500)):\n",
    "    try:\n",
    "        url = 'https://www.glowpick.com/beauty/ranking?id={}'.format(p)\n",
    "\n",
    "        driver.get(url)\n",
    "        cate1 = driver.find_element_by_css_selector('#gp-list > section > h1 > span:nth-child(2)')\n",
    "        cate1.click()\n",
    "\n",
    "        body = driver.find_element_by_css_selector('body')\n",
    "        \n",
    "        st = time()\n",
    "        while(True):\n",
    "            ul = driver.find_element_by_css_selector('#gp-list > div > section.section-list > ul')\n",
    "            body.send_keys(Keys.END)\n",
    "            sleep(0.2)\n",
    "            lis= ul.find_elements_by_css_selector('li .list-item') \n",
    "            if len(lis) >= 100:\n",
    "                break \n",
    "            if time() - st > 7:\n",
    "                break\n",
    "            \n",
    "        soup = BeautifulSoup(ul.get_attribute('innerHTML'), 'lxml')\n",
    "\n",
    "        lis = soup.select('li .list-item') \n",
    "\n",
    "        for idx, li in enumerate(lis): \n",
    "            rank_info = li.select('div.side-ranking span')\n",
    "            \n",
    "            rank=change=diff ='' \n",
    "            if len(rank_info)> 1:\n",
    "                rank = rank_info[0].text\n",
    "                if len(rank_info) > 2: \n",
    "                    change = '/'.join(rank_info[1]['class'][2])\n",
    "                    diff = rank_info[2].text\n",
    "            \n",
    "            info = li.select_one('.side-info')\n",
    "\n",
    "            link = li.select_one('div.comp-card-prod')['data-url']\n",
    "            link = link.replace('/product/','')\n",
    "\n",
    "            brand = info.select_one('.side-prod .brand').text\n",
    "            name = info.select_one('.side-prod .name').text\n",
    "            volume = info.select_one('.prod-info .volume').text\n",
    "            price = info.select_one('.prod-info .price').text\n",
    "\n",
    "            res.append([cate1.text, p, rank, change, diff, link, brand, name, volume, price])\n",
    "    except Exception as e:\n",
    "        #print(e)\n",
    "        #print(idx)\n",
    "        errors.append(p)"
   ]
  },
  {
   "cell_type": "code",
   "execution_count": 293,
   "metadata": {},
   "outputs": [],
   "source": [
    "df = pd.DataFrame(res, columns=['cate','cid','rank','change','diff','pn','company','name','volume','price'])"
   ]
  },
  {
   "cell_type": "code",
   "execution_count": 296,
   "metadata": {},
   "outputs": [],
   "source": [
    "df.to_csv('data/rank.csv', index=False)"
   ]
  },
  {
   "cell_type": "code",
   "execution_count": 2,
   "metadata": {},
   "outputs": [],
   "source": [
    "df = pd.read_csv('data/rank.csv')"
   ]
  },
  {
   "cell_type": "code",
   "execution_count": 5,
   "metadata": {},
   "outputs": [],
   "source": [
    "df = df[df['rank'].notna()]"
   ]
  },
  {
   "cell_type": "code",
   "execution_count": 7,
   "metadata": {},
   "outputs": [],
   "source": [
    "df.to_csv('data/rank.csv', index=False)"
   ]
  },
  {
   "cell_type": "code",
   "execution_count": null,
   "metadata": {},
   "outputs": [],
   "source": []
  }
 ],
 "metadata": {
  "kernelspec": {
   "display_name": "Python 3",
   "language": "python",
   "name": "python3"
  },
  "language_info": {
   "codemirror_mode": {
    "name": "ipython",
    "version": 3
   },
   "file_extension": ".py",
   "mimetype": "text/x-python",
   "name": "python",
   "nbconvert_exporter": "python",
   "pygments_lexer": "ipython3",
   "version": "3.6.5"
  }
 },
 "nbformat": 4,
 "nbformat_minor": 2
}
